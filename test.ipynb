{
 "cells": [
  {
   "cell_type": "markdown",
   "metadata": {},
   "source": [
    "# Importing the Libraries \n"
   ]
  },
  {
   "cell_type": "code",
   "execution_count": 6,
   "metadata": {},
   "outputs": [
    {
     "ename": "FileNotFoundError",
     "evalue": "[Errno 2] No such file or directory: 'data\\\\new-plant-diseases-dataset.zip'",
     "output_type": "error",
     "traceback": [
      "\u001b[1;31m---------------------------------------------------------------------------\u001b[0m",
      "\u001b[1;31mFileNotFoundError\u001b[0m                         Traceback (most recent call last)",
      "Cell \u001b[1;32mIn[7], line 12\u001b[0m\n\u001b[0;32m      9\u001b[0m os\u001b[38;5;241m.\u001b[39mmakedirs(extract_to_path, exist_ok\u001b[38;5;241m=\u001b[39m\u001b[38;5;28;01mTrue\u001b[39;00m)\n\u001b[0;32m     11\u001b[0m \u001b[38;5;66;03m# Extract ZIP file\u001b[39;00m\n\u001b[1;32m---> 12\u001b[0m \u001b[38;5;28;01mwith\u001b[39;00m \u001b[43mzipfile\u001b[49m\u001b[38;5;241;43m.\u001b[39;49m\u001b[43mZipFile\u001b[49m\u001b[43m(\u001b[49m\u001b[43mzip_file_path\u001b[49m\u001b[43m,\u001b[49m\u001b[43m \u001b[49m\u001b[38;5;124;43m'\u001b[39;49m\u001b[38;5;124;43mr\u001b[39;49m\u001b[38;5;124;43m'\u001b[39;49m\u001b[43m)\u001b[49m \u001b[38;5;28;01mas\u001b[39;00m zip_ref:\n\u001b[0;32m     13\u001b[0m     zip_ref\u001b[38;5;241m.\u001b[39mextractall(extract_to_path)\n\u001b[0;32m     15\u001b[0m \u001b[38;5;28mprint\u001b[39m(\u001b[38;5;124mf\u001b[39m\u001b[38;5;124m\"\u001b[39m\u001b[38;5;124mFiles extracted to: \u001b[39m\u001b[38;5;132;01m{\u001b[39;00mextract_to_path\u001b[38;5;132;01m}\u001b[39;00m\u001b[38;5;124m\"\u001b[39m)\n",
      "File \u001b[1;32mC:\\Program Files\\WindowsApps\\PythonSoftwareFoundation.Python.3.12_3.12.2288.0_x64__qbz5n2kfra8p0\\Lib\\zipfile\\__init__.py:1331\u001b[0m, in \u001b[0;36mZipFile.__init__\u001b[1;34m(self, file, mode, compression, allowZip64, compresslevel, strict_timestamps, metadata_encoding)\u001b[0m\n\u001b[0;32m   1329\u001b[0m \u001b[38;5;28;01mwhile\u001b[39;00m \u001b[38;5;28;01mTrue\u001b[39;00m:\n\u001b[0;32m   1330\u001b[0m     \u001b[38;5;28;01mtry\u001b[39;00m:\n\u001b[1;32m-> 1331\u001b[0m         \u001b[38;5;28mself\u001b[39m\u001b[38;5;241m.\u001b[39mfp \u001b[38;5;241m=\u001b[39m \u001b[43mio\u001b[49m\u001b[38;5;241;43m.\u001b[39;49m\u001b[43mopen\u001b[49m\u001b[43m(\u001b[49m\u001b[43mfile\u001b[49m\u001b[43m,\u001b[49m\u001b[43m \u001b[49m\u001b[43mfilemode\u001b[49m\u001b[43m)\u001b[49m\n\u001b[0;32m   1332\u001b[0m     \u001b[38;5;28;01mexcept\u001b[39;00m \u001b[38;5;167;01mOSError\u001b[39;00m:\n\u001b[0;32m   1333\u001b[0m         \u001b[38;5;28;01mif\u001b[39;00m filemode \u001b[38;5;129;01min\u001b[39;00m modeDict:\n",
      "\u001b[1;31mFileNotFoundError\u001b[0m: [Errno 2] No such file or directory: 'data\\\\new-plant-diseases-dataset.zip'"
     ]
    }
   ],
   "source": [
    "import zipfile\n",
    "import os\n",
    "\n",
    "# Define relative paths\n",
    "zip_file_path = os.path.join('data', 'new-plant-diseases-dataset.zip')\n",
    "extract_to_path = os.path.join('data', 'extracted')\n",
    "\n",
    "# Ensure the extract directory exists\n",
    "os.makedirs(extract_to_path, exist_ok=True)\n",
    "\n",
    "# Extract ZIP file\n",
    "with zipfile.ZipFile(zip_file_path, 'r') as zip_ref:\n",
    "    zip_ref.extractall(extract_to_path)\n",
    "\n",
    "print(f\"Files extracted to: {extract_to_path}\")\n",
    "\n"
   ]
  },
  {
   "cell_type": "code",
   "execution_count": 5,
   "metadata": {},
   "outputs": [
    {
     "ename": "ModuleNotFoundError",
     "evalue": "No module named 'tensorflow'",
     "output_type": "error",
     "traceback": [
      "\u001b[1;31m---------------------------------------------------------------------------\u001b[0m",
      "\u001b[1;31mModuleNotFoundError\u001b[0m                       Traceback (most recent call last)",
      "Cell \u001b[1;32mIn[5], line 1\u001b[0m\n\u001b[1;32m----> 1\u001b[0m \u001b[38;5;28;01mimport\u001b[39;00m \u001b[38;5;21;01mtensorflow\u001b[39;00m \u001b[38;5;28;01mas\u001b[39;00m \u001b[38;5;21;01mtf\u001b[39;00m \n\u001b[0;32m      2\u001b[0m \u001b[38;5;28;01mimport\u001b[39;00m \u001b[38;5;21;01mmatplotlib\u001b[39;00m\u001b[38;5;21;01m.\u001b[39;00m\u001b[38;5;21;01mpyplot\u001b[39;00m \u001b[38;5;28;01mas\u001b[39;00m \u001b[38;5;21;01mplt\u001b[39;00m \n\u001b[0;32m      3\u001b[0m \u001b[38;5;28;01mimport\u001b[39;00m \u001b[38;5;21;01mpandas\u001b[39;00m \u001b[38;5;28;01mas\u001b[39;00m \u001b[38;5;21;01mpd\u001b[39;00m \n",
      "\u001b[1;31mModuleNotFoundError\u001b[0m: No module named 'tensorflow'"
     ]
    }
   ],
   "source": [
    "import tensorflow as tf \n",
    "import matplotlib.pyplot as plt \n",
    "import pandas as pd \n",
    "import seaborn as sns "
   ]
  },
  {
   "cell_type": "markdown",
   "metadata": {},
   "source": [
    "Data Preprocessing \n"
   ]
  },
  {
   "cell_type": "code",
   "execution_count": 3,
   "metadata": {},
   "outputs": [
    {
     "name": "stdout",
     "output_type": "stream",
     "text": [
      "Found 70295 files belonging to 38 classes.\n"
     ]
    }
   ],
   "source": [
    "\n",
    "\n",
    "# Path to training dataset (relative to the script's location)\n",
    "base_dir = os.path.dirname(os.path.abspath(__file__))  # Get the directory of the current script\n",
    "train_data_path = os.path.join(base_dir, 'data', 'New Plant Diseases Dataset(Augmented)', 'train')\n",
    "\n",
    "# Load the dataset\n",
    "training_set = tf.keras.utils.image_dataset_from_directory(\n",
    "    directory=train_data_path,\n",
    "    labels=\"inferred\",              # Automatically infer labels from directory structure\n",
    "    label_mode=\"categorical\",       # Use categorical labels for multi-class classification\n",
    "    batch_size=32,                  # Specify batch size\n",
    "    image_size=(128, 128),          # Resize images to 128x128\n",
    "    shuffle=True,                   # Shuffle the data for training\n",
    "    color_mode=\"rgb\",               # Load images in RGB color mode\n",
    "    interpolation=\"bilinear\",       # Interpolation method for resizing\n",
    "    verbose=True                    # Display loading progress\n",
    ")\n",
    "\n"
   ]
  },
  {
   "cell_type": "markdown",
   "metadata": {},
   "source": [
    "Validation Image Preprocessing\n"
   ]
  },
  {
   "cell_type": "code",
   "execution_count": 4,
   "metadata": {},
   "outputs": [
    {
     "name": "stdout",
     "output_type": "stream",
     "text": [
      "Found 17572 files belonging to 38 classes.\n"
     ]
    }
   ],
   "source": [
    "import tensorflow as tf\n",
    "import os\n",
    "\n",
    "# Path to validation dataset (relative to the script's location)\n",
    "base_dir = os.path.dirname(os.path.abspath(__file__))  # Get the directory of the current script\n",
    "valid_data_path = os.path.join(base_dir, 'data', 'New Plant Diseases Dataset(Augmented)', 'valid')\n",
    "\n",
    "# Load the validation dataset\n",
    "validation_set = tf.keras.utils.image_dataset_from_directory(\n",
    "    directory=valid_data_path,\n",
    "    labels=\"inferred\",              # Automatically infer labels based on directory structure\n",
    "    label_mode=\"categorical\",       # Categorical labels for multi-class validation\n",
    "    batch_size=32,                  # Define batch size for validation\n",
    "    image_size=(128, 128),          # Resize images to 128x128\n",
    "    shuffle=True,                   # Shuffle for varied validation batches\n",
    "    color_mode=\"rgb\",               # Load images in RGB format\n",
    "    interpolation=\"bilinear\",       # Method for resizing images\n",
    "    verbose=True                    # Show progress while loading\n",
    ")\n"
   ]
  },
  {
   "cell_type": "code",
   "execution_count": 5,
   "metadata": {},
   "outputs": [
    {
     "data": {
      "text/plain": [
       "<_PrefetchDataset element_spec=(TensorSpec(shape=(None, 128, 128, 3), dtype=tf.float32, name=None), TensorSpec(shape=(None, 38), dtype=tf.float32, name=None))>"
      ]
     },
     "execution_count": 5,
     "metadata": {},
     "output_type": "execute_result"
    }
   ],
   "source": [
    "training_set"
   ]
  },
  {
   "cell_type": "code",
   "execution_count": 6,
   "metadata": {},
   "outputs": [
    {
     "name": "stdout",
     "output_type": "stream",
     "text": [
      "Images batch: tf.Tensor(\n",
      "[[[[190.5  185.5  182.5 ]\n",
      "   [190.25 185.25 182.25]\n",
      "   [190.25 185.25 182.25]\n",
      "   ...\n",
      "   [205.   203.   206.  ]\n",
      "   [205.75 203.75 206.75]\n",
      "   [202.   200.   203.  ]]\n",
      "\n",
      "  [[188.25 183.25 180.25]\n",
      "   [193.25 188.25 185.25]\n",
      "   [193.   188.   185.  ]\n",
      "   ...\n",
      "   [205.25 203.25 206.25]\n",
      "   [206.   204.   207.  ]\n",
      "   [203.5  201.5  204.5 ]]\n",
      "\n",
      "  [[193.   188.   185.  ]\n",
      "   [190.25 185.25 182.25]\n",
      "   [189.   184.   181.  ]\n",
      "   ...\n",
      "   [207.   205.   208.  ]\n",
      "   [208.   206.   209.  ]\n",
      "   [207.   205.   208.  ]]\n",
      "\n",
      "  ...\n",
      "\n",
      "  [[ 86.25  94.25 105.25]\n",
      "   [ 81.75  88.    99.5 ]\n",
      "   [ 95.5   99.25 109.75]\n",
      "   ...\n",
      "   [200.25 190.25 188.25]\n",
      "   [184.75 174.75 172.75]\n",
      "   [188.5  178.5  176.5 ]]\n",
      "\n",
      "  [[ 87.25  94.25 104.25]\n",
      "   [ 87.5   94.5  104.5 ]\n",
      "   [ 92.5   99.5  109.5 ]\n",
      "   ...\n",
      "   [192.25 182.25 180.25]\n",
      "   [193.5  183.5  181.5 ]\n",
      "   [189.75 179.75 177.75]]\n",
      "\n",
      "  [[ 84.    88.    99.  ]\n",
      "   [ 87.25  91.25 102.25]\n",
      "   [ 85.75  92.75 102.75]\n",
      "   ...\n",
      "   [206.   196.   194.  ]\n",
      "   [200.   190.   188.  ]\n",
      "   [202.   192.   190.  ]]]\n",
      "\n",
      "\n",
      " [[[ 80.    79.    84.  ]\n",
      "   [ 71.25  70.25  75.25]\n",
      "   [ 79.25  78.25  83.25]\n",
      "   ...\n",
      "   [ 81.75  84.75  89.75]\n",
      "   [ 66.5   69.5   74.5 ]\n",
      "   [ 78.    81.    86.  ]]\n",
      "\n",
      "  [[ 88.25  87.25  92.25]\n",
      "   [ 78.75  77.75  82.75]\n",
      "   [ 81.75  80.75  85.75]\n",
      "   ...\n",
      "   [ 78.25  81.25  86.25]\n",
      "   [ 68.5   71.5   76.5 ]\n",
      "   [ 83.75  86.75  91.75]]\n",
      "\n",
      "  [[ 86.5   85.5   90.5 ]\n",
      "   [ 89.25  88.25  93.25]\n",
      "   [ 92.5   91.5   96.5 ]\n",
      "   ...\n",
      "   [ 89.5   92.5   97.5 ]\n",
      "   [ 75.5   78.5   83.5 ]\n",
      "   [ 75.25  78.25  83.25]]\n",
      "\n",
      "  ...\n",
      "\n",
      "  [[170.5  164.5  168.5 ]\n",
      "   [117.5  111.5  115.5 ]\n",
      "   [130.   124.   128.  ]\n",
      "   ...\n",
      "   [123.25 118.25 124.25]\n",
      "   [142.   137.   143.  ]\n",
      "   [127.75 122.75 128.75]]\n",
      "\n",
      "  [[131.5  125.5  129.5 ]\n",
      "   [132.75 126.75 130.75]\n",
      "   [124.75 118.75 122.75]\n",
      "   ...\n",
      "   [131.75 126.75 132.75]\n",
      "   [142.25 137.25 143.25]\n",
      "   [140.75 135.75 141.75]]\n",
      "\n",
      "  [[135.25 129.25 133.25]\n",
      "   [174.   168.   172.  ]\n",
      "   [160.25 154.25 158.25]\n",
      "   ...\n",
      "   [119.   114.   120.  ]\n",
      "   [135.75 130.75 136.75]\n",
      "   [135.5  130.5  136.5 ]]]\n",
      "\n",
      "\n",
      " [[[156.   147.   150.  ]\n",
      "   [160.   151.   154.  ]\n",
      "   [163.5  154.5  157.5 ]\n",
      "   ...\n",
      "   [153.25 147.25 151.25]\n",
      "   [158.25 152.25 156.25]\n",
      "   [155.25 149.25 153.25]]\n",
      "\n",
      "  [[154.   145.   148.  ]\n",
      "   [151.5  142.5  145.5 ]\n",
      "   [155.25 146.25 149.25]\n",
      "   ...\n",
      "   [159.   153.   157.  ]\n",
      "   [155.75 149.75 153.75]\n",
      "   [156.5  150.5  154.5 ]]\n",
      "\n",
      "  [[157.   148.   151.  ]\n",
      "   [156.75 147.75 150.75]\n",
      "   [160.5  151.5  154.5 ]\n",
      "   ...\n",
      "   [154.   148.   152.  ]\n",
      "   [149.75 143.75 147.75]\n",
      "   [151.75 145.75 149.75]]\n",
      "\n",
      "  ...\n",
      "\n",
      "  [[112.25 102.25 101.25]\n",
      "   [116.75 106.75 105.75]\n",
      "   [115.5  105.5  104.5 ]\n",
      "   ...\n",
      "   [125.25 117.25 115.25]\n",
      "   [118.25 110.25 108.25]\n",
      "   [122.5  114.5  112.5 ]]\n",
      "\n",
      "  [[102.25  92.25  91.25]\n",
      "   [110.75 100.75  99.75]\n",
      "   [110.5  100.5   99.5 ]\n",
      "   ...\n",
      "   [123.75 115.75 113.75]\n",
      "   [127.75 119.75 117.75]\n",
      "   [121.25 113.25 111.25]]\n",
      "\n",
      "  [[120.75 110.75 109.75]\n",
      "   [117.25 107.25 106.25]\n",
      "   [115.25 105.25 104.25]\n",
      "   ...\n",
      "   [125.75 117.75 115.75]\n",
      "   [123.5  115.5  113.5 ]\n",
      "   [117.25 109.25 107.25]]]\n",
      "\n",
      "\n",
      " ...\n",
      "\n",
      "\n",
      " [[[149.25 158.25 175.25]\n",
      "   [149.   158.   175.  ]\n",
      "   [147.   156.   173.  ]\n",
      "   ...\n",
      "   [137.75 146.75 163.75]\n",
      "   [135.   144.   161.  ]\n",
      "   [137.75 146.75 163.75]]\n",
      "\n",
      "  [[145.25 154.25 171.25]\n",
      "   [147.   156.   173.  ]\n",
      "   [145.   154.   171.  ]\n",
      "   ...\n",
      "   [139.25 148.25 165.25]\n",
      "   [137.   146.   163.  ]\n",
      "   [140.25 149.25 166.25]]\n",
      "\n",
      "  [[148.25 157.25 174.25]\n",
      "   [148.25 157.25 174.25]\n",
      "   [146.5  155.5  172.5 ]\n",
      "   ...\n",
      "   [135.75 144.75 161.75]\n",
      "   [136.25 145.25 162.25]\n",
      "   [137.25 146.25 163.25]]\n",
      "\n",
      "  ...\n",
      "\n",
      "  [[121.25 126.25 145.25]\n",
      "   [117.75 122.75 141.75]\n",
      "   [115.   120.   139.  ]\n",
      "   ...\n",
      "   [113.25 115.25 128.25]\n",
      "   [111.25 113.25 126.25]\n",
      "   [115.75 117.75 130.75]]\n",
      "\n",
      "  [[118.   123.   142.  ]\n",
      "   [114.25 119.25 138.25]\n",
      "   [112.75 117.75 136.75]\n",
      "   ...\n",
      "   [112.5  114.5  127.5 ]\n",
      "   [110.25 112.25 125.25]\n",
      "   [105.5  107.5  120.5 ]]\n",
      "\n",
      "  [[114.75 119.75 138.75]\n",
      "   [114.   119.   138.  ]\n",
      "   [113.75 118.75 137.75]\n",
      "   ...\n",
      "   [114.   116.   129.  ]\n",
      "   [106.25 108.25 121.25]\n",
      "   [110.75 112.75 125.75]]]\n",
      "\n",
      "\n",
      " [[[136.75 126.75 134.75]\n",
      "   [130.25 120.25 128.25]\n",
      "   [133.5  123.5  131.5 ]\n",
      "   ...\n",
      "   [107.    96.5  110.  ]\n",
      "   [104.75  95.5   99.75]\n",
      "   [ 98.75  91.    87.5 ]]\n",
      "\n",
      "  [[133.5  123.5  131.5 ]\n",
      "   [140.5  130.5  138.5 ]\n",
      "   [141.75 131.75 139.75]\n",
      "   ...\n",
      "   [104.5   94.   106.5 ]\n",
      "   [ 96.    86.25  94.75]\n",
      "   [101.25  92.    96.25]]\n",
      "\n",
      "  [[131.5  121.5  129.5 ]\n",
      "   [137.5  127.5  135.5 ]\n",
      "   [139.25 129.25 137.25]\n",
      "   ...\n",
      "   [ 95.75  85.75  96.25]\n",
      "   [ 86.5   76.5   87.5 ]\n",
      "   [ 93.25  83.25  92.75]]\n",
      "\n",
      "  ...\n",
      "\n",
      "  [[135.25 128.75 134.75]\n",
      "   [132.5  125.5  133.25]\n",
      "   [136.75 127.   134.  ]\n",
      "   ...\n",
      "   [ 83.5   74.5   77.5 ]\n",
      "   [ 82.75  73.75  76.75]\n",
      "   [ 81.    72.    75.  ]]\n",
      "\n",
      "  [[137.25 129.   143.5 ]\n",
      "   [134.25 126.75 136.5 ]\n",
      "   [139.75 131.5  129.75]\n",
      "   ...\n",
      "   [ 82.5   73.5   76.5 ]\n",
      "   [ 83.25  74.25  77.25]\n",
      "   [ 82.75  73.75  76.75]]\n",
      "\n",
      "  [[134.25 127.   145.25]\n",
      "   [135.   127.5  137.5 ]\n",
      "   [142.   135.   127.25]\n",
      "   ...\n",
      "   [ 77.25  68.25  71.25]\n",
      "   [ 79.    70.    73.  ]\n",
      "   [ 79.    70.    73.  ]]]\n",
      "\n",
      "\n",
      " [[[159.75 157.75 158.75]\n",
      "   [160.5  158.5  159.5 ]\n",
      "   [158.   156.   157.  ]\n",
      "   ...\n",
      "   [129.   124.   128.  ]\n",
      "   [123.25 118.25 122.25]\n",
      "   [128.25 123.25 127.25]]\n",
      "\n",
      "  [[162.   160.   161.  ]\n",
      "   [162.25 160.25 161.25]\n",
      "   [159.5  157.5  158.5 ]\n",
      "   ...\n",
      "   [123.5  118.5  122.5 ]\n",
      "   [121.5  116.5  120.5 ]\n",
      "   [126.5  121.5  125.5 ]]\n",
      "\n",
      "  [[166.5  164.5  165.5 ]\n",
      "   [166.   164.   165.  ]\n",
      "   [162.25 160.25 161.25]\n",
      "   ...\n",
      "   [125.5  120.5  124.5 ]\n",
      "   [126.75 121.75 125.75]\n",
      "   [129.25 124.25 128.25]]\n",
      "\n",
      "  ...\n",
      "\n",
      "  [[112.75 104.75 102.75]\n",
      "   [122.5  114.5  112.5 ]\n",
      "   [112.5  104.5  102.5 ]\n",
      "   ...\n",
      "   [124.5  119.5  116.5 ]\n",
      "   [127.25 122.25 119.25]\n",
      "   [122.5  117.5  114.5 ]]\n",
      "\n",
      "  [[112.   104.   102.  ]\n",
      "   [115.   107.   105.  ]\n",
      "   [114.75 106.75 104.75]\n",
      "   ...\n",
      "   [125.   120.   117.  ]\n",
      "   [125.5  120.5  117.5 ]\n",
      "   [125.75 120.75 117.75]]\n",
      "\n",
      "  [[106.5   98.5   96.5 ]\n",
      "   [117.5  109.5  107.5 ]\n",
      "   [110.   102.   100.  ]\n",
      "   ...\n",
      "   [122.75 117.75 114.75]\n",
      "   [121.5  116.5  113.5 ]\n",
      "   [124.75 119.75 116.75]]]], shape=(32, 128, 128, 3), dtype=float32)\n",
      "Images batch shape: (32, 128, 128, 3)\n",
      "Labels batch: tf.Tensor(\n",
      "[[0. 0. 0. ... 0. 0. 0.]\n",
      " [0. 0. 0. ... 0. 0. 1.]\n",
      " [0. 0. 0. ... 0. 0. 0.]\n",
      " ...\n",
      " [0. 0. 0. ... 0. 0. 0.]\n",
      " [0. 0. 0. ... 0. 0. 0.]\n",
      " [0. 0. 0. ... 0. 0. 0.]], shape=(32, 38), dtype=float32)\n",
      "Labels batch shape: (32, 38)\n"
     ]
    }
   ],
   "source": [
    "# Iterate through the training set\n",
    "for images, labels in training_set:\n",
    "    print(\"Images batch:\", images)\n",
    "    print(\"Images batch shape:\", images.shape)\n",
    "    print(\"Labels batch:\", labels)\n",
    "    print(\"Labels batch shape:\", labels.shape)\n",
    "    break  # Exit after the first batch\n",
    "\n",
    "\n"
   ]
  },
  {
   "cell_type": "markdown",
   "metadata": {},
   "source": [
    "Building the Model"
   ]
  },
  {
   "cell_type": "code",
   "execution_count": 7,
   "metadata": {},
   "outputs": [],
   "source": [
    "# Import necessary modules for building the model\n",
    "from tensorflow.keras.models import Sequential\n",
    "from tensorflow.keras.layers import (\n",
    "    Dense, \n",
    "    Conv2D, \n",
    "    MaxPooling2D, \n",
    "    Flatten, \n",
    "    Dropout\n",
    ")"
   ]
  },
  {
   "cell_type": "code",
   "execution_count": 9,
   "metadata": {},
   "outputs": [],
   "source": [
    "model = Sequential()"
   ]
  },
  {
   "cell_type": "markdown",
   "metadata": {},
   "source": [
    "Building Convolution Layer"
   ]
  },
  {
   "cell_type": "code",
   "execution_count": 10,
   "metadata": {},
   "outputs": [
    {
     "name": "stderr",
     "output_type": "stream",
     "text": [
      "C:\\Users\\panth\\AppData\\Roaming\\Python\\Python312\\site-packages\\keras\\src\\layers\\convolutional\\base_conv.py:107: UserWarning: Do not pass an `input_shape`/`input_dim` argument to a layer. When using Sequential models, prefer using an `Input(shape)` object as the first layer in the model instead.\n",
      "  super().__init__(activity_regularizer=activity_regularizer, **kwargs)\n"
     ]
    }
   ],
   "source": [
    "# Add the first convolutional layer\n",
    "model.add(Conv2D(\n",
    "    filters=32,                 # Number of filters for the convolution\n",
    "    kernel_size=3,              # Size of the convolution kernel\n",
    "    padding='same',             # Preserve spatial dimensions of the input\n",
    "    activation='relu',          # Use ReLU activation function\n",
    "    input_shape=(128, 128, 3)   # Input shape: 128x128 RGB images\n",
    "))\n",
    "\n",
    "# Add the second convolutional layer\n",
    "model.add(Conv2D(\n",
    "    filters=32,\n",
    "    kernel_size=3,\n",
    "    padding='same',\n",
    "    activation='relu'\n",
    "))\n",
    "\n",
    "# Add a max-pooling layer\n",
    "model.add(MaxPooling2D(\n",
    "    pool_size=2,    # Downsample using a 2x2 pool size\n",
    "    strides=2       # Stride of 2 for the pooling operation\n",
    "))"
   ]
  },
  {
   "cell_type": "code",
   "execution_count": 11,
   "metadata": {},
   "outputs": [],
   "source": [
    "# Add the third convolutional layer\n",
    "model.add(Conv2D(\n",
    "    filters=64,                 # Increased number of filters for deeper feature extraction\n",
    "    kernel_size=3,              # Size of the convolution kernel\n",
    "    padding='same',             # Preserve spatial dimensions of the input\n",
    "    activation='relu',          # Use ReLU activation function\n",
    "    input_shape=(128, 128, 3)   # Input shape (only required for the first layer in the model)\n",
    "))\n",
    "\n",
    "# Add the fourth convolutional layer\n",
    "model.add(Conv2D(\n",
    "    filters=64,\n",
    "    kernel_size=3,\n",
    "    padding='same',\n",
    "    activation='relu'\n",
    "))\n",
    "\n",
    "# Add another max-pooling layer\n",
    "model.add(MaxPooling2D(\n",
    "    pool_size=2,    # Downsample using a 2x2 pool size\n",
    "    strides=2       # Stride of 2 for the pooling operation\n",
    "))\n"
   ]
  },
  {
   "cell_type": "code",
   "execution_count": 12,
   "metadata": {},
   "outputs": [],
   "source": [
    "# Add the fifth convolutional layer\n",
    "model.add(Conv2D(\n",
    "    filters=128,                # Increased filters for capturing more complex features\n",
    "    kernel_size=3,              # Kernel size remains 3x3 for consistency\n",
    "    padding='same',             # Maintain spatial dimensions\n",
    "    activation='relu',          # ReLU activation for non-linearity\n",
    "    input_shape=(128, 128, 3)   # Input shape (only necessary for the first layer)\n",
    "))\n",
    "\n",
    "# Add the sixth convolutional layer\n",
    "model.add(Conv2D(\n",
    "    filters=128,\n",
    "    kernel_size=3,\n",
    "    padding='same',\n",
    "    activation='relu'\n",
    "))\n",
    "\n",
    "# Add another max-pooling layer\n",
    "model.add(MaxPooling2D(\n",
    "    pool_size=2,    # Pool size of 2x2 for downsampling\n",
    "    strides=2       # Stride of 2 for pooling\n",
    "))\n"
   ]
  },
  {
   "cell_type": "code",
   "execution_count": 13,
   "metadata": {},
   "outputs": [],
   "source": [
    "# Add the seventh convolutional layer\n",
    "model.add(Conv2D(\n",
    "    filters=256,                # Increased filters for capturing more intricate features\n",
    "    kernel_size=3,              # Consistent kernel size of 3x3\n",
    "    padding='same',             # Preserve spatial dimensions\n",
    "    activation='relu',          # ReLU activation for non-linearity\n",
    "    input_shape=(128, 128, 3)   # Input shape (only required for the first layer)\n",
    "))\n",
    "\n",
    "# Add the eighth convolutional layer\n",
    "model.add(Conv2D(\n",
    "    filters=256,\n",
    "    kernel_size=3,\n",
    "    padding='same',\n",
    "    activation='relu'\n",
    "))\n",
    "\n",
    "# Add a max-pooling layer\n",
    "model.add(MaxPooling2D(\n",
    "    pool_size=2,    # Use a pool size of 2x2 for downsampling\n",
    "    strides=2       # Stride of 2 for pooling operation\n",
    "))\n"
   ]
  },
  {
   "cell_type": "code",
   "execution_count": 15,
   "metadata": {},
   "outputs": [],
   "source": [
    "# Add the ninth convolutional layer\n",
    "model.add(Conv2D(\n",
    "    filters=512,                # Increased filters for highly detailed feature extraction\n",
    "    kernel_size=3,              # Consistent 3x3 kernel size\n",
    "    padding='same',             # Maintain input dimensions\n",
    "    activation='relu',          # ReLU activation for non-linearity\n",
    "    input_shape=(128, 128, 3)   # Input shape (only necessary for the first layer)\n",
    "))\n",
    "\n",
    "# Add the tenth convolutional layer\n",
    "model.add(Conv2D(\n",
    "    filters=512,\n",
    "    kernel_size=3,\n",
    "    padding='same',\n",
    "    activation='relu'\n",
    "))\n",
    "\n",
    "# Add another max-pooling layer\n",
    "model.add(MaxPooling2D(\n",
    "    pool_size=2,    # Pool size of 2x2 for downsampling\n",
    "    strides=2       # Stride of 2 for pooling\n",
    "))\n"
   ]
  },
  {
   "cell_type": "code",
   "execution_count": 16,
   "metadata": {},
   "outputs": [],
   "source": [
    "model.add(Dropout(0.25)) "
   ]
  },
  {
   "cell_type": "code",
   "execution_count": 17,
   "metadata": {},
   "outputs": [],
   "source": [
    "model.add(Flatten())"
   ]
  },
  {
   "cell_type": "code",
   "execution_count": 18,
   "metadata": {},
   "outputs": [],
   "source": [
    "model.add(Dense(units=1500, activation='relu')) "
   ]
  },
  {
   "cell_type": "code",
   "execution_count": 19,
   "metadata": {},
   "outputs": [],
   "source": [
    "model.add(Dropout(0.4))"
   ]
  },
  {
   "cell_type": "code",
   "execution_count": 20,
   "metadata": {},
   "outputs": [],
   "source": [
    "model.add(Dense(units=38, activation='softmax')) "
   ]
  },
  {
   "cell_type": "markdown",
   "metadata": {},
   "source": [
    "Model Compile"
   ]
  },
  {
   "cell_type": "code",
   "execution_count": 21,
   "metadata": {},
   "outputs": [],
   "source": [
    "# Compile the model\n",
    "model.compile(\n",
    "    optimizer=tf.keras.optimizers.Adam(learning_rate=0.0001),  # Adam optimizer with a low learning rate\n",
    "    loss='categorical_crossentropy',                           # Loss function for multi-class classification\n",
    "    metrics=['accuracy']                                       # Metric to monitor model accuracy during training\n",
    ")\n"
   ]
  },
  {
   "cell_type": "code",
   "execution_count": 22,
   "metadata": {},
   "outputs": [
    {
     "data": {
      "text/html": [
       "<pre style=\"white-space:pre;overflow-x:auto;line-height:normal;font-family:Menlo,'DejaVu Sans Mono',consolas,'Courier New',monospace\"><span style=\"font-weight: bold\">Model: \"sequential\"</span>\n",
       "</pre>\n"
      ],
      "text/plain": [
       "\u001b[1mModel: \"sequential\"\u001b[0m\n"
      ]
     },
     "metadata": {},
     "output_type": "display_data"
    },
    {
     "data": {
      "text/html": [
       "<pre style=\"white-space:pre;overflow-x:auto;line-height:normal;font-family:Menlo,'DejaVu Sans Mono',consolas,'Courier New',monospace\">┏━━━━━━━━━━━━━━━━━━━━━━━━━━━━━━━━━┳━━━━━━━━━━━━━━━━━━━━━━━━┳━━━━━━━━━━━━━━━┓\n",
       "┃<span style=\"font-weight: bold\"> Layer (type)                    </span>┃<span style=\"font-weight: bold\"> Output Shape           </span>┃<span style=\"font-weight: bold\">       Param # </span>┃\n",
       "┡━━━━━━━━━━━━━━━━━━━━━━━━━━━━━━━━━╇━━━━━━━━━━━━━━━━━━━━━━━━╇━━━━━━━━━━━━━━━┩\n",
       "│ conv2d (<span style=\"color: #0087ff; text-decoration-color: #0087ff\">Conv2D</span>)                 │ (<span style=\"color: #00d7ff; text-decoration-color: #00d7ff\">None</span>, <span style=\"color: #00af00; text-decoration-color: #00af00\">128</span>, <span style=\"color: #00af00; text-decoration-color: #00af00\">128</span>, <span style=\"color: #00af00; text-decoration-color: #00af00\">32</span>)   │           <span style=\"color: #00af00; text-decoration-color: #00af00\">896</span> │\n",
       "├─────────────────────────────────┼────────────────────────┼───────────────┤\n",
       "│ conv2d_1 (<span style=\"color: #0087ff; text-decoration-color: #0087ff\">Conv2D</span>)               │ (<span style=\"color: #00d7ff; text-decoration-color: #00d7ff\">None</span>, <span style=\"color: #00af00; text-decoration-color: #00af00\">128</span>, <span style=\"color: #00af00; text-decoration-color: #00af00\">128</span>, <span style=\"color: #00af00; text-decoration-color: #00af00\">32</span>)   │         <span style=\"color: #00af00; text-decoration-color: #00af00\">9,248</span> │\n",
       "├─────────────────────────────────┼────────────────────────┼───────────────┤\n",
       "│ max_pooling2d (<span style=\"color: #0087ff; text-decoration-color: #0087ff\">MaxPooling2D</span>)    │ (<span style=\"color: #00d7ff; text-decoration-color: #00d7ff\">None</span>, <span style=\"color: #00af00; text-decoration-color: #00af00\">64</span>, <span style=\"color: #00af00; text-decoration-color: #00af00\">64</span>, <span style=\"color: #00af00; text-decoration-color: #00af00\">32</span>)     │             <span style=\"color: #00af00; text-decoration-color: #00af00\">0</span> │\n",
       "├─────────────────────────────────┼────────────────────────┼───────────────┤\n",
       "│ conv2d_2 (<span style=\"color: #0087ff; text-decoration-color: #0087ff\">Conv2D</span>)               │ (<span style=\"color: #00d7ff; text-decoration-color: #00d7ff\">None</span>, <span style=\"color: #00af00; text-decoration-color: #00af00\">64</span>, <span style=\"color: #00af00; text-decoration-color: #00af00\">64</span>, <span style=\"color: #00af00; text-decoration-color: #00af00\">64</span>)     │        <span style=\"color: #00af00; text-decoration-color: #00af00\">18,496</span> │\n",
       "├─────────────────────────────────┼────────────────────────┼───────────────┤\n",
       "│ conv2d_3 (<span style=\"color: #0087ff; text-decoration-color: #0087ff\">Conv2D</span>)               │ (<span style=\"color: #00d7ff; text-decoration-color: #00d7ff\">None</span>, <span style=\"color: #00af00; text-decoration-color: #00af00\">64</span>, <span style=\"color: #00af00; text-decoration-color: #00af00\">64</span>, <span style=\"color: #00af00; text-decoration-color: #00af00\">64</span>)     │        <span style=\"color: #00af00; text-decoration-color: #00af00\">36,928</span> │\n",
       "├─────────────────────────────────┼────────────────────────┼───────────────┤\n",
       "│ max_pooling2d_1 (<span style=\"color: #0087ff; text-decoration-color: #0087ff\">MaxPooling2D</span>)  │ (<span style=\"color: #00d7ff; text-decoration-color: #00d7ff\">None</span>, <span style=\"color: #00af00; text-decoration-color: #00af00\">32</span>, <span style=\"color: #00af00; text-decoration-color: #00af00\">32</span>, <span style=\"color: #00af00; text-decoration-color: #00af00\">64</span>)     │             <span style=\"color: #00af00; text-decoration-color: #00af00\">0</span> │\n",
       "├─────────────────────────────────┼────────────────────────┼───────────────┤\n",
       "│ conv2d_4 (<span style=\"color: #0087ff; text-decoration-color: #0087ff\">Conv2D</span>)               │ (<span style=\"color: #00d7ff; text-decoration-color: #00d7ff\">None</span>, <span style=\"color: #00af00; text-decoration-color: #00af00\">32</span>, <span style=\"color: #00af00; text-decoration-color: #00af00\">32</span>, <span style=\"color: #00af00; text-decoration-color: #00af00\">128</span>)    │        <span style=\"color: #00af00; text-decoration-color: #00af00\">73,856</span> │\n",
       "├─────────────────────────────────┼────────────────────────┼───────────────┤\n",
       "│ conv2d_5 (<span style=\"color: #0087ff; text-decoration-color: #0087ff\">Conv2D</span>)               │ (<span style=\"color: #00d7ff; text-decoration-color: #00d7ff\">None</span>, <span style=\"color: #00af00; text-decoration-color: #00af00\">32</span>, <span style=\"color: #00af00; text-decoration-color: #00af00\">32</span>, <span style=\"color: #00af00; text-decoration-color: #00af00\">128</span>)    │       <span style=\"color: #00af00; text-decoration-color: #00af00\">147,584</span> │\n",
       "├─────────────────────────────────┼────────────────────────┼───────────────┤\n",
       "│ max_pooling2d_2 (<span style=\"color: #0087ff; text-decoration-color: #0087ff\">MaxPooling2D</span>)  │ (<span style=\"color: #00d7ff; text-decoration-color: #00d7ff\">None</span>, <span style=\"color: #00af00; text-decoration-color: #00af00\">16</span>, <span style=\"color: #00af00; text-decoration-color: #00af00\">16</span>, <span style=\"color: #00af00; text-decoration-color: #00af00\">128</span>)    │             <span style=\"color: #00af00; text-decoration-color: #00af00\">0</span> │\n",
       "├─────────────────────────────────┼────────────────────────┼───────────────┤\n",
       "│ conv2d_6 (<span style=\"color: #0087ff; text-decoration-color: #0087ff\">Conv2D</span>)               │ (<span style=\"color: #00d7ff; text-decoration-color: #00d7ff\">None</span>, <span style=\"color: #00af00; text-decoration-color: #00af00\">16</span>, <span style=\"color: #00af00; text-decoration-color: #00af00\">16</span>, <span style=\"color: #00af00; text-decoration-color: #00af00\">256</span>)    │       <span style=\"color: #00af00; text-decoration-color: #00af00\">295,168</span> │\n",
       "├─────────────────────────────────┼────────────────────────┼───────────────┤\n",
       "│ conv2d_7 (<span style=\"color: #0087ff; text-decoration-color: #0087ff\">Conv2D</span>)               │ (<span style=\"color: #00d7ff; text-decoration-color: #00d7ff\">None</span>, <span style=\"color: #00af00; text-decoration-color: #00af00\">16</span>, <span style=\"color: #00af00; text-decoration-color: #00af00\">16</span>, <span style=\"color: #00af00; text-decoration-color: #00af00\">256</span>)    │       <span style=\"color: #00af00; text-decoration-color: #00af00\">590,080</span> │\n",
       "├─────────────────────────────────┼────────────────────────┼───────────────┤\n",
       "│ max_pooling2d_3 (<span style=\"color: #0087ff; text-decoration-color: #0087ff\">MaxPooling2D</span>)  │ (<span style=\"color: #00d7ff; text-decoration-color: #00d7ff\">None</span>, <span style=\"color: #00af00; text-decoration-color: #00af00\">8</span>, <span style=\"color: #00af00; text-decoration-color: #00af00\">8</span>, <span style=\"color: #00af00; text-decoration-color: #00af00\">256</span>)      │             <span style=\"color: #00af00; text-decoration-color: #00af00\">0</span> │\n",
       "├─────────────────────────────────┼────────────────────────┼───────────────┤\n",
       "│ conv2d_8 (<span style=\"color: #0087ff; text-decoration-color: #0087ff\">Conv2D</span>)               │ (<span style=\"color: #00d7ff; text-decoration-color: #00d7ff\">None</span>, <span style=\"color: #00af00; text-decoration-color: #00af00\">8</span>, <span style=\"color: #00af00; text-decoration-color: #00af00\">8</span>, <span style=\"color: #00af00; text-decoration-color: #00af00\">512</span>)      │     <span style=\"color: #00af00; text-decoration-color: #00af00\">1,180,160</span> │\n",
       "├─────────────────────────────────┼────────────────────────┼───────────────┤\n",
       "│ conv2d_9 (<span style=\"color: #0087ff; text-decoration-color: #0087ff\">Conv2D</span>)               │ (<span style=\"color: #00d7ff; text-decoration-color: #00d7ff\">None</span>, <span style=\"color: #00af00; text-decoration-color: #00af00\">8</span>, <span style=\"color: #00af00; text-decoration-color: #00af00\">8</span>, <span style=\"color: #00af00; text-decoration-color: #00af00\">512</span>)      │     <span style=\"color: #00af00; text-decoration-color: #00af00\">2,359,808</span> │\n",
       "├─────────────────────────────────┼────────────────────────┼───────────────┤\n",
       "│ max_pooling2d_4 (<span style=\"color: #0087ff; text-decoration-color: #0087ff\">MaxPooling2D</span>)  │ (<span style=\"color: #00d7ff; text-decoration-color: #00d7ff\">None</span>, <span style=\"color: #00af00; text-decoration-color: #00af00\">4</span>, <span style=\"color: #00af00; text-decoration-color: #00af00\">4</span>, <span style=\"color: #00af00; text-decoration-color: #00af00\">512</span>)      │             <span style=\"color: #00af00; text-decoration-color: #00af00\">0</span> │\n",
       "├─────────────────────────────────┼────────────────────────┼───────────────┤\n",
       "│ conv2d_10 (<span style=\"color: #0087ff; text-decoration-color: #0087ff\">Conv2D</span>)              │ (<span style=\"color: #00d7ff; text-decoration-color: #00d7ff\">None</span>, <span style=\"color: #00af00; text-decoration-color: #00af00\">4</span>, <span style=\"color: #00af00; text-decoration-color: #00af00\">4</span>, <span style=\"color: #00af00; text-decoration-color: #00af00\">512</span>)      │     <span style=\"color: #00af00; text-decoration-color: #00af00\">2,359,808</span> │\n",
       "├─────────────────────────────────┼────────────────────────┼───────────────┤\n",
       "│ conv2d_11 (<span style=\"color: #0087ff; text-decoration-color: #0087ff\">Conv2D</span>)              │ (<span style=\"color: #00d7ff; text-decoration-color: #00d7ff\">None</span>, <span style=\"color: #00af00; text-decoration-color: #00af00\">4</span>, <span style=\"color: #00af00; text-decoration-color: #00af00\">4</span>, <span style=\"color: #00af00; text-decoration-color: #00af00\">512</span>)      │     <span style=\"color: #00af00; text-decoration-color: #00af00\">2,359,808</span> │\n",
       "├─────────────────────────────────┼────────────────────────┼───────────────┤\n",
       "│ max_pooling2d_5 (<span style=\"color: #0087ff; text-decoration-color: #0087ff\">MaxPooling2D</span>)  │ (<span style=\"color: #00d7ff; text-decoration-color: #00d7ff\">None</span>, <span style=\"color: #00af00; text-decoration-color: #00af00\">2</span>, <span style=\"color: #00af00; text-decoration-color: #00af00\">2</span>, <span style=\"color: #00af00; text-decoration-color: #00af00\">512</span>)      │             <span style=\"color: #00af00; text-decoration-color: #00af00\">0</span> │\n",
       "├─────────────────────────────────┼────────────────────────┼───────────────┤\n",
       "│ dropout (<span style=\"color: #0087ff; text-decoration-color: #0087ff\">Dropout</span>)               │ (<span style=\"color: #00d7ff; text-decoration-color: #00d7ff\">None</span>, <span style=\"color: #00af00; text-decoration-color: #00af00\">2</span>, <span style=\"color: #00af00; text-decoration-color: #00af00\">2</span>, <span style=\"color: #00af00; text-decoration-color: #00af00\">512</span>)      │             <span style=\"color: #00af00; text-decoration-color: #00af00\">0</span> │\n",
       "├─────────────────────────────────┼────────────────────────┼───────────────┤\n",
       "│ flatten (<span style=\"color: #0087ff; text-decoration-color: #0087ff\">Flatten</span>)               │ (<span style=\"color: #00d7ff; text-decoration-color: #00d7ff\">None</span>, <span style=\"color: #00af00; text-decoration-color: #00af00\">2048</span>)           │             <span style=\"color: #00af00; text-decoration-color: #00af00\">0</span> │\n",
       "├─────────────────────────────────┼────────────────────────┼───────────────┤\n",
       "│ dense (<span style=\"color: #0087ff; text-decoration-color: #0087ff\">Dense</span>)                   │ (<span style=\"color: #00d7ff; text-decoration-color: #00d7ff\">None</span>, <span style=\"color: #00af00; text-decoration-color: #00af00\">1500</span>)           │     <span style=\"color: #00af00; text-decoration-color: #00af00\">3,073,500</span> │\n",
       "├─────────────────────────────────┼────────────────────────┼───────────────┤\n",
       "│ dropout_1 (<span style=\"color: #0087ff; text-decoration-color: #0087ff\">Dropout</span>)             │ (<span style=\"color: #00d7ff; text-decoration-color: #00d7ff\">None</span>, <span style=\"color: #00af00; text-decoration-color: #00af00\">1500</span>)           │             <span style=\"color: #00af00; text-decoration-color: #00af00\">0</span> │\n",
       "├─────────────────────────────────┼────────────────────────┼───────────────┤\n",
       "│ dense_1 (<span style=\"color: #0087ff; text-decoration-color: #0087ff\">Dense</span>)                 │ (<span style=\"color: #00d7ff; text-decoration-color: #00d7ff\">None</span>, <span style=\"color: #00af00; text-decoration-color: #00af00\">38</span>)             │        <span style=\"color: #00af00; text-decoration-color: #00af00\">57,038</span> │\n",
       "└─────────────────────────────────┴────────────────────────┴───────────────┘\n",
       "</pre>\n"
      ],
      "text/plain": [
       "┏━━━━━━━━━━━━━━━━━━━━━━━━━━━━━━━━━┳━━━━━━━━━━━━━━━━━━━━━━━━┳━━━━━━━━━━━━━━━┓\n",
       "┃\u001b[1m \u001b[0m\u001b[1mLayer (type)                   \u001b[0m\u001b[1m \u001b[0m┃\u001b[1m \u001b[0m\u001b[1mOutput Shape          \u001b[0m\u001b[1m \u001b[0m┃\u001b[1m \u001b[0m\u001b[1m      Param #\u001b[0m\u001b[1m \u001b[0m┃\n",
       "┡━━━━━━━━━━━━━━━━━━━━━━━━━━━━━━━━━╇━━━━━━━━━━━━━━━━━━━━━━━━╇━━━━━━━━━━━━━━━┩\n",
       "│ conv2d (\u001b[38;5;33mConv2D\u001b[0m)                 │ (\u001b[38;5;45mNone\u001b[0m, \u001b[38;5;34m128\u001b[0m, \u001b[38;5;34m128\u001b[0m, \u001b[38;5;34m32\u001b[0m)   │           \u001b[38;5;34m896\u001b[0m │\n",
       "├─────────────────────────────────┼────────────────────────┼───────────────┤\n",
       "│ conv2d_1 (\u001b[38;5;33mConv2D\u001b[0m)               │ (\u001b[38;5;45mNone\u001b[0m, \u001b[38;5;34m128\u001b[0m, \u001b[38;5;34m128\u001b[0m, \u001b[38;5;34m32\u001b[0m)   │         \u001b[38;5;34m9,248\u001b[0m │\n",
       "├─────────────────────────────────┼────────────────────────┼───────────────┤\n",
       "│ max_pooling2d (\u001b[38;5;33mMaxPooling2D\u001b[0m)    │ (\u001b[38;5;45mNone\u001b[0m, \u001b[38;5;34m64\u001b[0m, \u001b[38;5;34m64\u001b[0m, \u001b[38;5;34m32\u001b[0m)     │             \u001b[38;5;34m0\u001b[0m │\n",
       "├─────────────────────────────────┼────────────────────────┼───────────────┤\n",
       "│ conv2d_2 (\u001b[38;5;33mConv2D\u001b[0m)               │ (\u001b[38;5;45mNone\u001b[0m, \u001b[38;5;34m64\u001b[0m, \u001b[38;5;34m64\u001b[0m, \u001b[38;5;34m64\u001b[0m)     │        \u001b[38;5;34m18,496\u001b[0m │\n",
       "├─────────────────────────────────┼────────────────────────┼───────────────┤\n",
       "│ conv2d_3 (\u001b[38;5;33mConv2D\u001b[0m)               │ (\u001b[38;5;45mNone\u001b[0m, \u001b[38;5;34m64\u001b[0m, \u001b[38;5;34m64\u001b[0m, \u001b[38;5;34m64\u001b[0m)     │        \u001b[38;5;34m36,928\u001b[0m │\n",
       "├─────────────────────────────────┼────────────────────────┼───────────────┤\n",
       "│ max_pooling2d_1 (\u001b[38;5;33mMaxPooling2D\u001b[0m)  │ (\u001b[38;5;45mNone\u001b[0m, \u001b[38;5;34m32\u001b[0m, \u001b[38;5;34m32\u001b[0m, \u001b[38;5;34m64\u001b[0m)     │             \u001b[38;5;34m0\u001b[0m │\n",
       "├─────────────────────────────────┼────────────────────────┼───────────────┤\n",
       "│ conv2d_4 (\u001b[38;5;33mConv2D\u001b[0m)               │ (\u001b[38;5;45mNone\u001b[0m, \u001b[38;5;34m32\u001b[0m, \u001b[38;5;34m32\u001b[0m, \u001b[38;5;34m128\u001b[0m)    │        \u001b[38;5;34m73,856\u001b[0m │\n",
       "├─────────────────────────────────┼────────────────────────┼───────────────┤\n",
       "│ conv2d_5 (\u001b[38;5;33mConv2D\u001b[0m)               │ (\u001b[38;5;45mNone\u001b[0m, \u001b[38;5;34m32\u001b[0m, \u001b[38;5;34m32\u001b[0m, \u001b[38;5;34m128\u001b[0m)    │       \u001b[38;5;34m147,584\u001b[0m │\n",
       "├─────────────────────────────────┼────────────────────────┼───────────────┤\n",
       "│ max_pooling2d_2 (\u001b[38;5;33mMaxPooling2D\u001b[0m)  │ (\u001b[38;5;45mNone\u001b[0m, \u001b[38;5;34m16\u001b[0m, \u001b[38;5;34m16\u001b[0m, \u001b[38;5;34m128\u001b[0m)    │             \u001b[38;5;34m0\u001b[0m │\n",
       "├─────────────────────────────────┼────────────────────────┼───────────────┤\n",
       "│ conv2d_6 (\u001b[38;5;33mConv2D\u001b[0m)               │ (\u001b[38;5;45mNone\u001b[0m, \u001b[38;5;34m16\u001b[0m, \u001b[38;5;34m16\u001b[0m, \u001b[38;5;34m256\u001b[0m)    │       \u001b[38;5;34m295,168\u001b[0m │\n",
       "├─────────────────────────────────┼────────────────────────┼───────────────┤\n",
       "│ conv2d_7 (\u001b[38;5;33mConv2D\u001b[0m)               │ (\u001b[38;5;45mNone\u001b[0m, \u001b[38;5;34m16\u001b[0m, \u001b[38;5;34m16\u001b[0m, \u001b[38;5;34m256\u001b[0m)    │       \u001b[38;5;34m590,080\u001b[0m │\n",
       "├─────────────────────────────────┼────────────────────────┼───────────────┤\n",
       "│ max_pooling2d_3 (\u001b[38;5;33mMaxPooling2D\u001b[0m)  │ (\u001b[38;5;45mNone\u001b[0m, \u001b[38;5;34m8\u001b[0m, \u001b[38;5;34m8\u001b[0m, \u001b[38;5;34m256\u001b[0m)      │             \u001b[38;5;34m0\u001b[0m │\n",
       "├─────────────────────────────────┼────────────────────────┼───────────────┤\n",
       "│ conv2d_8 (\u001b[38;5;33mConv2D\u001b[0m)               │ (\u001b[38;5;45mNone\u001b[0m, \u001b[38;5;34m8\u001b[0m, \u001b[38;5;34m8\u001b[0m, \u001b[38;5;34m512\u001b[0m)      │     \u001b[38;5;34m1,180,160\u001b[0m │\n",
       "├─────────────────────────────────┼────────────────────────┼───────────────┤\n",
       "│ conv2d_9 (\u001b[38;5;33mConv2D\u001b[0m)               │ (\u001b[38;5;45mNone\u001b[0m, \u001b[38;5;34m8\u001b[0m, \u001b[38;5;34m8\u001b[0m, \u001b[38;5;34m512\u001b[0m)      │     \u001b[38;5;34m2,359,808\u001b[0m │\n",
       "├─────────────────────────────────┼────────────────────────┼───────────────┤\n",
       "│ max_pooling2d_4 (\u001b[38;5;33mMaxPooling2D\u001b[0m)  │ (\u001b[38;5;45mNone\u001b[0m, \u001b[38;5;34m4\u001b[0m, \u001b[38;5;34m4\u001b[0m, \u001b[38;5;34m512\u001b[0m)      │             \u001b[38;5;34m0\u001b[0m │\n",
       "├─────────────────────────────────┼────────────────────────┼───────────────┤\n",
       "│ conv2d_10 (\u001b[38;5;33mConv2D\u001b[0m)              │ (\u001b[38;5;45mNone\u001b[0m, \u001b[38;5;34m4\u001b[0m, \u001b[38;5;34m4\u001b[0m, \u001b[38;5;34m512\u001b[0m)      │     \u001b[38;5;34m2,359,808\u001b[0m │\n",
       "├─────────────────────────────────┼────────────────────────┼───────────────┤\n",
       "│ conv2d_11 (\u001b[38;5;33mConv2D\u001b[0m)              │ (\u001b[38;5;45mNone\u001b[0m, \u001b[38;5;34m4\u001b[0m, \u001b[38;5;34m4\u001b[0m, \u001b[38;5;34m512\u001b[0m)      │     \u001b[38;5;34m2,359,808\u001b[0m │\n",
       "├─────────────────────────────────┼────────────────────────┼───────────────┤\n",
       "│ max_pooling2d_5 (\u001b[38;5;33mMaxPooling2D\u001b[0m)  │ (\u001b[38;5;45mNone\u001b[0m, \u001b[38;5;34m2\u001b[0m, \u001b[38;5;34m2\u001b[0m, \u001b[38;5;34m512\u001b[0m)      │             \u001b[38;5;34m0\u001b[0m │\n",
       "├─────────────────────────────────┼────────────────────────┼───────────────┤\n",
       "│ dropout (\u001b[38;5;33mDropout\u001b[0m)               │ (\u001b[38;5;45mNone\u001b[0m, \u001b[38;5;34m2\u001b[0m, \u001b[38;5;34m2\u001b[0m, \u001b[38;5;34m512\u001b[0m)      │             \u001b[38;5;34m0\u001b[0m │\n",
       "├─────────────────────────────────┼────────────────────────┼───────────────┤\n",
       "│ flatten (\u001b[38;5;33mFlatten\u001b[0m)               │ (\u001b[38;5;45mNone\u001b[0m, \u001b[38;5;34m2048\u001b[0m)           │             \u001b[38;5;34m0\u001b[0m │\n",
       "├─────────────────────────────────┼────────────────────────┼───────────────┤\n",
       "│ dense (\u001b[38;5;33mDense\u001b[0m)                   │ (\u001b[38;5;45mNone\u001b[0m, \u001b[38;5;34m1500\u001b[0m)           │     \u001b[38;5;34m3,073,500\u001b[0m │\n",
       "├─────────────────────────────────┼────────────────────────┼───────────────┤\n",
       "│ dropout_1 (\u001b[38;5;33mDropout\u001b[0m)             │ (\u001b[38;5;45mNone\u001b[0m, \u001b[38;5;34m1500\u001b[0m)           │             \u001b[38;5;34m0\u001b[0m │\n",
       "├─────────────────────────────────┼────────────────────────┼───────────────┤\n",
       "│ dense_1 (\u001b[38;5;33mDense\u001b[0m)                 │ (\u001b[38;5;45mNone\u001b[0m, \u001b[38;5;34m38\u001b[0m)             │        \u001b[38;5;34m57,038\u001b[0m │\n",
       "└─────────────────────────────────┴────────────────────────┴───────────────┘\n"
      ]
     },
     "metadata": {},
     "output_type": "display_data"
    },
    {
     "data": {
      "text/html": [
       "<pre style=\"white-space:pre;overflow-x:auto;line-height:normal;font-family:Menlo,'DejaVu Sans Mono',consolas,'Courier New',monospace\"><span style=\"font-weight: bold\"> Total params: </span><span style=\"color: #00af00; text-decoration-color: #00af00\">12,562,378</span> (47.92 MB)\n",
       "</pre>\n"
      ],
      "text/plain": [
       "\u001b[1m Total params: \u001b[0m\u001b[38;5;34m12,562,378\u001b[0m (47.92 MB)\n"
      ]
     },
     "metadata": {},
     "output_type": "display_data"
    },
    {
     "data": {
      "text/html": [
       "<pre style=\"white-space:pre;overflow-x:auto;line-height:normal;font-family:Menlo,'DejaVu Sans Mono',consolas,'Courier New',monospace\"><span style=\"font-weight: bold\"> Trainable params: </span><span style=\"color: #00af00; text-decoration-color: #00af00\">12,562,378</span> (47.92 MB)\n",
       "</pre>\n"
      ],
      "text/plain": [
       "\u001b[1m Trainable params: \u001b[0m\u001b[38;5;34m12,562,378\u001b[0m (47.92 MB)\n"
      ]
     },
     "metadata": {},
     "output_type": "display_data"
    },
    {
     "data": {
      "text/html": [
       "<pre style=\"white-space:pre;overflow-x:auto;line-height:normal;font-family:Menlo,'DejaVu Sans Mono',consolas,'Courier New',monospace\"><span style=\"font-weight: bold\"> Non-trainable params: </span><span style=\"color: #00af00; text-decoration-color: #00af00\">0</span> (0.00 B)\n",
       "</pre>\n"
      ],
      "text/plain": [
       "\u001b[1m Non-trainable params: \u001b[0m\u001b[38;5;34m0\u001b[0m (0.00 B)\n"
      ]
     },
     "metadata": {},
     "output_type": "display_data"
    }
   ],
   "source": [
    "model.summary()"
   ]
  },
  {
   "cell_type": "markdown",
   "metadata": {},
   "source": [
    "Model Training "
   ]
  },
  {
   "cell_type": "code",
   "execution_count": null,
   "metadata": {},
   "outputs": [
    {
     "name": "stdout",
     "output_type": "stream",
     "text": [
      "Epoch 1/10\n",
      "\u001b[1m 506/2197\u001b[0m \u001b[32m━━━━\u001b[0m\u001b[37m━━━━━━━━━━━━━━━━\u001b[0m \u001b[1m37:45\u001b[0m 1s/step - accuracy: 0.0903 - loss: 3.3946"
     ]
    }
   ],
   "source": [
    "# Train the model\n",
    "training_history = model.fit(\n",
    "    x=training_set,             # Training dataset\n",
    "    validation_data=validation_set,  # Validation dataset for performance monitoring\n",
    "    epochs=10                   # Number of training epochs\n",
    ")\n"
   ]
  },
  {
   "cell_type": "markdown",
   "metadata": {},
   "source": [
    "Model Evaluation "
   ]
  },
  {
   "cell_type": "code",
   "execution_count": null,
   "metadata": {},
   "outputs": [],
   "source": [
    "# Evaluate the model on the training dataset\n",
    "train_loss, train_acc = model.evaluate(\n",
    "    training_set  # Training dataset used for evaluation\n",
    ")\n",
    "\n",
    "# Print the training loss and accuracy\n",
    "print(f\"Training Loss: {train_loss:.4f}\")\n",
    "print(f\"Training Accuracy: {train_acc:.4f}\")\n"
   ]
  },
  {
   "cell_type": "code",
   "execution_count": null,
   "metadata": {},
   "outputs": [],
   "source": [
    "print(train_loss, train_acc)"
   ]
  },
  {
   "cell_type": "code",
   "execution_count": null,
   "metadata": {},
   "outputs": [],
   "source": [
    "#Model on Validation set\n",
    "val_loss, val_acc = model.evaluate(validation_set)\n",
    "print(val_loss, val_acc)"
   ]
  },
  {
   "cell_type": "markdown",
   "metadata": {},
   "source": [
    "Saving the Model"
   ]
  },
  {
   "cell_type": "code",
   "execution_count": null,
   "metadata": {},
   "outputs": [],
   "source": [
    "model.save(\"trained_model.keras\")"
   ]
  },
  {
   "cell_type": "code",
   "execution_count": null,
   "metadata": {},
   "outputs": [],
   "source": [
    "training_history.history"
   ]
  },
  {
   "cell_type": "code",
   "execution_count": null,
   "metadata": {},
   "outputs": [],
   "source": [
    "import json\n",
    "\n",
    "# Save training history to a JSON file\n",
    "with open(\"training_history.json\", \"w\") as file:\n",
    "    json.dump(training_history.history, file)  # Serialize the training history dictionary to JSON\n",
    "\n",
    "print(\"Training history saved to training_history.json\")\n"
   ]
  },
  {
   "cell_type": "markdown",
   "metadata": {},
   "source": [
    "Visualization"
   ]
  },
  {
   "cell_type": "code",
   "execution_count": null,
   "metadata": {},
   "outputs": [],
   "source": [
    "import matplotlib.pyplot as plt\n",
    "\n",
    "# Define the number of epochs\n",
    "epochs = [i for i in range(1, 11)]\n",
    "\n",
    "# Plot training accuracy\n",
    "plt.plot(epochs, training_history.history['accuracy'], color='red', label='Training Accuracy')\n",
    "\n",
    "# Add labels, title, and legend\n",
    "plt.xlabel(\"Number of Epochs\")                  # Label for x-axis\n",
    "plt.ylabel(\"Training Accuracy\")                # Label for y-axis\n",
    "plt.title(\"Visualization of Training Data Accuracy\")  # Title for the plot\n",
    "plt.legend()                                   # Show the legend\n",
    "\n",
    "# Display the plot\n",
    "plt.show()\n"
   ]
  },
  {
   "cell_type": "code",
   "execution_count": null,
   "metadata": {},
   "outputs": [],
   "source": [
    "# Define the number of epochs\n",
    "epochs = [i for i in range(1, 11)]\n",
    "\n",
    "# Plot validation accuracy\n",
    "plt.plot(epochs, training_history.history['val_accuracy'], color='blue', label='Validation Accuracy')\n",
    "\n",
    "# Add labels, title, and legend\n",
    "plt.xlabel(\"Number of Epochs\")                    # Label for x-axis\n",
    "plt.ylabel(\"Validation Accuracy\")                # Label for y-axis\n",
    "plt.title(\"Visualization of Validation Data Accuracy\")  # Title for the plot\n",
    "plt.legend()                                     # Display the legend\n",
    "\n",
    "# Display the plot\n",
    "plt.show()"
   ]
  },
  {
   "cell_type": "markdown",
   "metadata": {},
   "source": [
    "Model evaluation\n"
   ]
  },
  {
   "cell_type": "code",
   "execution_count": null,
   "metadata": {},
   "outputs": [],
   "source": [
    "# Get the class names from the validation set\n",
    "class_names = validation_set.class_names\n",
    "\n",
    "# Display the class names\n",
    "class_names\n"
   ]
  },
  {
   "cell_type": "code",
   "execution_count": null,
   "metadata": {},
   "outputs": [],
   "source": [
    "# Path to the test dataset (relative to the script's location)\n",
    "base_dir = os.path.dirname(os.path.abspath(__file__))  # Get the directory of the current script\n",
    "test_data_path = os.path.join(base_dir, 'data', 'New Plant Diseases Dataset(Augmented)', 'valid')\n",
    "\n",
    "# Load the test dataset\n",
    "test_set = tf.keras.utils.image_dataset_from_directory(\n",
    "    directory=test_data_path,      # Directory containing the test dataset\n",
    "    labels=\"inferred\",            # Automatically infer labels from the directory structure\n",
    "    label_mode=\"categorical\",     # Use categorical labels for multi-class classification\n",
    "    batch_size=32,                # Batch size for loading the dataset\n",
    "    image_size=(128, 128),        # Resize images to 128x128\n",
    "    shuffle=False,                # Disable shuffling for consistent testing\n",
    "    color_mode=\"rgb\",             # Load images in RGB format\n",
    "    interpolation=\"bilinear\",     # Interpolation method for resizing\n",
    "    verbose=True                  # Show detailed progress information\n",
    ")\n",
    "\n",
    "# Verify that the test dataset is loaded correctly\n",
    "print(f\"Test dataset loaded with {len(test_set)} batches.\")\n",
    "\n"
   ]
  },
  {
   "cell_type": "code",
   "execution_count": null,
   "metadata": {},
   "outputs": [],
   "source": [
    "# Make predictions on the test set\n",
    "y_pred = model.predict(test_set)\n",
    "\n",
    "# Display the predictions and their shape\n",
    "print(\"Predictions:\", y_pred)\n",
    "print(\"Predictions Shape:\", y_pred.shape)\n"
   ]
  },
  {
   "cell_type": "code",
   "execution_count": null,
   "metadata": {},
   "outputs": [],
   "source": [
    "predicted_categories = tf.argmax(y_pred, axis=1)\n",
    "predicted_categories\n",
    "true_categories = tf.concat([y for x,y in test_set], axis = 0)\n",
    "print(true_categories)"
   ]
  },
  {
   "cell_type": "code",
   "execution_count": null,
   "metadata": {},
   "outputs": [],
   "source": [
    "# Convert one-hot encoded labels to class indices\n",
    "Y_true = tf.argmax(true_categories, axis=1)\n",
    "\n",
    "# Display the class indices\n",
    "print(\"True Class Labels:\", Y_true.numpy())\n"
   ]
  },
  {
   "cell_type": "code",
   "execution_count": null,
   "metadata": {},
   "outputs": [],
   "source": [
    "from sklearn.metrics import classification_report, confusion_matrix\n",
    "print(classification_report(Y_true, predicted_categories, target_names=class_name))"
   ]
  },
  {
   "cell_type": "markdown",
   "metadata": {},
   "source": [
    "Visualization of Confusion Matrix"
   ]
  },
  {
   "cell_type": "code",
   "execution_count": null,
   "metadata": {},
   "outputs": [],
   "source": [
    "cm = confusion_matrix(Y_true, predicted_categories)\n",
    "cm.shape"
   ]
  },
  {
   "cell_type": "code",
   "execution_count": null,
   "metadata": {},
   "outputs": [],
   "source": [
    "# Plot the confusion matrix\n",
    "plt.figure(figsize=(40, 40))  # Set the figure size for better visibility\n",
    "sns.heatmap(\n",
    "    cm,                         # Confusion matrix data\n",
    "    annot=True,                 # Annotate cells with their values\n",
    "    annot_kws={'size': 10},     # Set the font size of annotations\n",
    "    cmap='viridis',             # Use a color map for better contrast (optional)\n",
    "    fmt='g'                     # Display annotations as integers\n",
    ")\n",
    "\n",
    "# Add axis labels and title with larger fonts\n",
    "plt.xlabel(\"Predicted Class\", fontsize=20)\n",
    "plt.ylabel(\"Actual Class\", fontsize=20)\n",
    "plt.title(\"Plant Disease Prediction Confusion Matrix\", fontsize=25)\n",
    "\n",
    "# Show the plot\n",
    "plt.show()"
   ]
  }
 ],
 "metadata": {
  "kernelspec": {
   "display_name": "Python 3",
   "language": "python",
   "name": "python3"
  },
  "language_info": {
   "codemirror_mode": {
    "name": "ipython",
    "version": 3
   },
   "file_extension": ".py",
   "mimetype": "text/x-python",
   "name": "python",
   "nbconvert_exporter": "python",
   "pygments_lexer": "ipython3",
   "version": "3.12.8"
  }
 },
 "nbformat": 4,
 "nbformat_minor": 2
}
